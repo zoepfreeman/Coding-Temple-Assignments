{
 "cells": [
  {
   "cell_type": "code",
   "execution_count": 2,
   "id": "a2a36340",
   "metadata": {},
   "outputs": [
    {
     "name": "stdout",
     "output_type": "stream",
     "text": [
      "What item are you adding to your cart? Press \"q\" to quit banana\n",
      "How much does banana cost in dollars? No symbols please 10\n",
      "How many bananas would you like? 3\n",
      "Here is your shopping cart: {'banana': 30}\n",
      "Would you like to remove an item? \"y/n\" n\n",
      "What item are you adding to your cart? Press \"q\" to quit apple\n",
      "How much does apple cost in dollars? No symbols please 5\n",
      "How many apples would you like? 2\n",
      "Here is your shopping cart: {'banana': 30, 'apple': 10}\n",
      "Would you like to remove an item? \"y/n\" n\n",
      "What item are you adding to your cart? Press \"q\" to quit zoe\n",
      "How much does zoe cost in dollars? No symbols please pricelss\n",
      "How many zoes would you like? 20\n",
      "\n",
      "\n",
      "Error:\n",
      "Please input only a symbolless dollar number value for item price. For example, $10 should be written as 10, and $0.50 should be written as 0.5\n",
      "Please input only a symbolless number value for the number of {item}s you would like\n",
      "The item has been removed from your cart, please try again\n",
      "Here is your shopping cart: {'banana': 30, 'apple': 10}\n",
      "Would you like to remove an item? \"y/n\" y\n",
      "What would you like to remove? Press \"c\" to cancel apple\n",
      "Here is your updated shopping cart: {'banana': 30} \n",
      " apple has been removed.\n",
      "What item are you adding to your cart? Press \"q\" to quit q\n",
      "\n",
      "\n",
      "Your receipt:\n",
      "Banana: $30\n",
      "Your total is $30\n"
     ]
    }
   ],
   "source": [
    "def shopping_cart():\n",
    "    cart={}\n",
    "    while True:\n",
    "        item=input('What item are you adding to your cart? Press \"q\" to quit ')\n",
    "        if item=='q':\n",
    "            break\n",
    "        item_price=input(f'How much does {item} cost in dollars? No symbols please ')\n",
    "        item_total=input(f'How many {item}s would you like? ')\n",
    "        try:\n",
    "            int(item_price)\n",
    "            int(item_total)\n",
    "            cart[item]=int(item_price)*int(item_total)\n",
    "        except:\n",
    "            print('\\n')\n",
    "            print('Error:')\n",
    "            print(\"Please input only a symbolless dollar number value for item price. For example, $10 should be written as 10, and $0.50 should be written as 0.5\")\n",
    "            print(\"Please input only a symbolless number value for the number of {item}s you would like\")\n",
    "            print(\"The item has been removed from your cart, please try again\")\n",
    "            \n",
    "        print(f\"Here is your shopping cart: {cart}\")\n",
    "        print('\\n')\n",
    "        if input('Would you like to remove an item? \"y/n\" ')=='y':\n",
    "            removed_item=input('What would you like to remove? Press \"c\" to cancel ')\n",
    "            if removed_item=='c':\n",
    "                break\n",
    "            del cart[removed_item]\n",
    "            print(f\"Here is your updated shopping cart: {cart} \\n {removed_item} has been removed.\")\n",
    "            print('\\n')\n",
    "    print('\\n')\n",
    "    print(\"Your receipt:\")\n",
    "    all_values=[]\n",
    "    for key,value in cart.items():\n",
    "        print(f\"{key.title()}: ${value}\")\n",
    "        all_values.append(value)\n",
    "    print(f\"Your total is ${sum(all_values)}\")\n",
    "\n",
    "        \n",
    "shopping_cart()\n",
    "            "
   ]
  },
  {
   "cell_type": "code",
   "execution_count": null,
   "id": "12ecd95f",
   "metadata": {},
   "outputs": [],
   "source": []
  },
  {
   "cell_type": "code",
   "execution_count": null,
   "id": "2f3155d7",
   "metadata": {},
   "outputs": [],
   "source": []
  }
 ],
 "metadata": {
  "kernelspec": {
   "display_name": "Python 3 (ipykernel)",
   "language": "python",
   "name": "python3"
  },
  "language_info": {
   "codemirror_mode": {
    "name": "ipython",
    "version": 3
   },
   "file_extension": ".py",
   "mimetype": "text/x-python",
   "name": "python",
   "nbconvert_exporter": "python",
   "pygments_lexer": "ipython3",
   "version": "3.9.13"
  }
 },
 "nbformat": 4,
 "nbformat_minor": 5
}
